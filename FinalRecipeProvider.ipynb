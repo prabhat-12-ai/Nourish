{
  "nbformat": 4,
  "nbformat_minor": 0,
  "metadata": {
    "colab": {
      "provenance": []
    },
    "kernelspec": {
      "name": "python3",
      "display_name": "Python 3"
    },
    "language_info": {
      "name": "python"
    }
  },
  "cells": [
    {
      "cell_type": "code",
      "execution_count": null,
      "metadata": {
        "id": "gx1ONEl2nruB"
      },
      "outputs": [],
      "source": [
        "# 📦 Import Required Libraries\n",
        "import pandas as pd\n",
        "from sklearn.feature_extraction.text import TfidfVectorizer\n",
        "from sklearn.metrics.pairwise import cosine_similarity"
      ]
    },
    {
      "cell_type": "code",
      "source": [
        "# 📁 Load Dataset\n",
        "df = pd.read_csv('IndianFoodDataset2.csv')"
      ],
      "metadata": {
        "id": "DPU8x5XHoCtw",
        "collapsed": true,
        "outputId": "f1d9bfc2-3b0d-4c6a-8318-492f5725321e",
        "colab": {
          "base_uri": "https://localhost:8080/",
          "height": 158
        }
      },
      "execution_count": null,
      "outputs": [
        {
          "output_type": "error",
          "ename": "NameError",
          "evalue": "name 'pd' is not defined",
          "traceback": [
            "\u001b[0;31m---------------------------------------------------------------------------\u001b[0m",
            "\u001b[0;31mNameError\u001b[0m                                 Traceback (most recent call last)",
            "\u001b[0;32m<ipython-input-1-9d61854f1dfe>\u001b[0m in \u001b[0;36m<cell line: 0>\u001b[0;34m()\u001b[0m\n\u001b[1;32m      1\u001b[0m \u001b[0;31m# 📁 Load Dataset\u001b[0m\u001b[0;34m\u001b[0m\u001b[0;34m\u001b[0m\u001b[0m\n\u001b[0;32m----> 2\u001b[0;31m \u001b[0mdf\u001b[0m \u001b[0;34m=\u001b[0m \u001b[0mpd\u001b[0m\u001b[0;34m.\u001b[0m\u001b[0mread_csv\u001b[0m\u001b[0;34m(\u001b[0m\u001b[0;34m'IndianFoodDataset2.csv'\u001b[0m\u001b[0;34m)\u001b[0m\u001b[0;34m\u001b[0m\u001b[0;34m\u001b[0m\u001b[0m\n\u001b[0m",
            "\u001b[0;31mNameError\u001b[0m: name 'pd' is not defined"
          ]
        }
      ]
    },
    {
      "cell_type": "code",
      "source": [
        "# 🧹 Data Cleaning\n",
        "# Keep only rows where ingredients exist\n",
        "df = df.dropna(subset=['TranslatedIngredients'])"
      ],
      "metadata": {
        "id": "uKA4JeHQoUuv"
      },
      "execution_count": null,
      "outputs": []
    },
    {
      "cell_type": "code",
      "source": [
        "# Optional: Reset index after drop\n",
        "df.reset_index(drop=True, inplace=True)"
      ],
      "metadata": {
        "id": "twxDklV2oWgr"
      },
      "execution_count": null,
      "outputs": []
    },
    {
      "cell_type": "code",
      "source": [
        "# 🔠 Vectorize Ingredients using TF-IDF\n",
        "vectorizer = TfidfVectorizer(stop_words='english')\n",
        "tfidf_matrix = vectorizer.fit_transform(df['TranslatedIngredients'])"
      ],
      "metadata": {
        "id": "pOn8BO7SoZnq"
      },
      "execution_count": null,
      "outputs": []
    },
    {
      "cell_type": "code",
      "source": [
        "# 🤖 Recipe Suggestion Function\n",
        "def suggest_recipes(user_ingredients, top_n=5):\n",
        "    # Convert user input to TF-IDF vector\n",
        "    user_vector = vectorizer.transform([user_ingredients])\n",
        "\n",
        "    # Calculate cosine similarity with all recipes\n",
        "    similarity_scores = cosine_similarity(user_vector, tfidf_matrix).flatten()\n",
        "\n",
        "    # Get top N most similar recipes\n",
        "    top_indices = similarity_scores.argsort()[-top_n:][::-1]\n",
        "\n",
        "    # Return selected recipe details\n",
        "    return df.iloc[top_indices][['TranslatedRecipeName', 'TranslatedIngredients', 'TranslatedInstructions', 'URL']]\n"
      ],
      "metadata": {
        "id": "XiisF30uof00"
      },
      "execution_count": null,
      "outputs": []
    },
    {
      "cell_type": "code",
      "source": [
        "# ▶️ Example: Try it out!\n",
        "user_input = \"onion, tomato, garlic\"\n",
        "recommended_recipes = suggest_recipes(user_input)"
      ],
      "metadata": {
        "id": "hwt4YGTnoknV"
      },
      "execution_count": null,
      "outputs": []
    },
    {
      "cell_type": "code",
      "source": [
        "# 📋 Show Recommendations\n",
        "print(\"\\nTop Recipes for Ingredients:\", user_input)\n",
        "for i, row in recommended_recipes.iterrows():\n",
        "    print(f\"\\n🍽️ {row['TranslatedRecipeName']}\")\n",
        "    print(f\"🧂 Ingredients: {row['TranslatedIngredients']}\")\n",
        "    print(f\"📃 Instructions: {row['TranslatedInstructions'][:150]}...\")  # Shortened for display\n",
        "    print(f\"🔗 URL: {row['URL']}\")"
      ],
      "metadata": {
        "colab": {
          "base_uri": "https://localhost:8080/"
        },
        "id": "650EkuOZorKE",
        "outputId": "83bb0ca0-ea1e-460b-c401-a9bbabd6473f"
      },
      "execution_count": null,
      "outputs": [
        {
          "output_type": "stream",
          "name": "stdout",
          "text": [
            "\n",
            "Top Recipes for Ingredients: onion, tomato, garlic\n",
            "\n",
            "🍽️  Spinach Egg Muffins Recipe\n",
            "🧂 Ingredients: 4 eggs, 1 onion, 1 cup spinach, salt - as per taste, 1 teaspoon black pepper powder, 1/2 tomato, 2 teaspoons garlic - cut, oil - as per use\n",
            "📃 Instructions: पालक और अंडे का मफिन रेसिपी बनाने के लिए सबसे पहले ओवन को 180 डिग्री सेल्सियस पर पहले से गरम कर ले. मफिन ट्रे को भी तेल से ग्रीस कर ले. एक कढ़ाई में ते...\n",
            "🔗 URL: http://www.archanaskitchen.com/spinach-egg-muffins-recipe-in-hindi\n",
            "\n",
            "🍽️ Spinach Egg Muffins Recipe\n",
            "🧂 Ingredients: 4 Whole Eggs,1 Onion,1 cup Spinach Leaves (Palak),Salt - to taste,1 teaspoon Black pepper powder,1/2 Tomato,2 teaspoons Garlic - chopped,Sunflower Oil - as required\n",
            "📃 Instructions: To bgein making the Spinach Egg Muffins recipe, preheat oven to 180°C. Grease the muffin tray with oil.Heat a heavy bottomed pan adding oil, add chopp...\n",
            "🔗 URL: http://www.archanaskitchen.com/spinach-egg-muffins-recipe\n",
            "\n",
            "🍽️ Hurali Saaru Recipe - Healthy Horse Gram and Coconut Curry\n",
            "🧂 Ingredients: 1/2 cup Horse Gram Dal (Kollu/ Kulith) - soaked for at least 4-5 hours or overnight,1 Onion - roughly chopped,1 Tomato - roughly chopped,1 Potato (Aloo) - chopped into chunks (optional),1/4 Cup Tamarind Water,1 Onion,1 Tomato,1/4 cup Fresh coconut - grated,2 Cloves (Laung),1 inch Cinnamon Stick (Dalchini),1 inch Ginger,4 cloves Garlic,2 teaspoons Sambar Powder,1 Onion - chopped finely,1/2 teaspoon Mustard seeds,2 Dry Red Chillies,2 sprig Curry leaves,1/4 teaspoon Asafoetida (hing),2 teaspoon Ghee\n",
            "📃 Instructions: To begin, pressure cook the soaked horse-gram for two whistles over medium heat, along with the chopped onion, tomato and potato. Turn off the heat af...\n",
            "🔗 URL: http://www.archanaskitchen.com/hurali-saaru-recipe-healthy-horse-gram-and-coconut-curry\n",
            "\n",
            "🍽️ Vegetarian Mexican Fried Rice Recipe\n",
            "🧂 Ingredients: 2 cup Cooked rice,1 cup Rajma (Large Kidney Beans) - soaked and boiled,1 cup Sweet corn - boiled,1/2 cup Onion - finely chopped,1/2 cup Tomato - finely chopped,1/2 cup Green Bell Pepper (Capsicum) - finely chopped,4 cloves Garlic - minced,3 tablespoons Butter,Salt - to taste,2 tablespoons Tomato Ketchup - or tomato puree,1/2 teaspoon Vinegar,1 tablespoon Cayenne Pepper - or red chilli powder (adjust according to your taste)\n",
            "📃 Instructions: To begin making the Vegetarian Mexican Fried Rice recipe, heat a heavy bottomed pan on high flame and add butter. Add garlic and onion and cook for 1 ...\n",
            "🔗 URL: https://www.archanaskitchen.com/vegetarian-mexican-fried-rice-recipe\n",
            "\n",
            "🍽️ Akuri Recipe (Parsi Style Seasoned Scrambled Eggs)\n",
            "🧂 Ingredients: 6 Whole Eggs,1 Onion - finely chopped,1 Tomato - finely chopped,2 Green Chillies - finely chopped,6 cloves Garlic - grated,2 tablespoon Butter,3 tablespoon Fresh cream,Salt - to taste,Coriander (Dhania) Leaves - for garnish\n",
            "📃 Instructions: To begin making the Akuri Recipe, first chop onions, tomatoes and green chilies finely. Grate garlic cloves. Keep aside until ready to cook the Akuri....\n",
            "🔗 URL: http://www.archanaskitchen.com/akuri-recipe-parsi-style-seasoned-scrambled-eggs-recipe\n"
          ]
        }
      ]
    },
    {
      "cell_type": "markdown",
      "source": [
        "**Updated Code Final!**"
      ],
      "metadata": {
        "id": "7TRDntphqH5g"
      }
    },
    {
      "cell_type": "code",
      "source": [
        "# 📦 Import Libraries\n",
        "import pandas as pd\n",
        "from sklearn.feature_extraction.text import TfidfVectorizer\n",
        "from sklearn.metrics.pairwise import cosine_similarity\n",
        "\n",
        "# 📁 Load the dataset\n",
        "df = pd.read_csv('IndianFoodDataset2.csv')\n",
        "\n",
        "# 🧹 Data Cleaning\n",
        "df = df.dropna(subset=['TranslatedIngredients'])\n",
        "df.reset_index(drop=True, inplace=True)\n",
        "\n",
        "# 🔠 TF-IDF Vectorizer\n",
        "vectorizer = TfidfVectorizer(stop_words='english')\n",
        "tfidf_matrix = vectorizer.fit_transform(df['TranslatedIngredients'])\n",
        "\n",
        "# 🤖 Recipe Suggestion Function\n",
        "def suggest_recipes(user_ingredients, top_n=5):\n",
        "    user_vector = vectorizer.transform([user_ingredients])\n",
        "    similarity_scores = cosine_similarity(user_vector, tfidf_matrix).flatten()\n",
        "    top_indices = similarity_scores.argsort()[-top_n:][::-1]\n",
        "    return df.iloc[top_indices][['TranslatedRecipeName', 'TranslatedIngredients']]\n",
        "\n",
        "# 🧪 Interactive Test\n",
        "def main():\n",
        "    print(\"🔍 Welcome to the Indian Recipe Recommender!\")\n",
        "    user_input = input(\"Enter ingredients (comma-separated): \").strip()\n",
        "\n",
        "    if not user_input:\n",
        "        print(\"⚠️ Please enter some ingredients.\")\n",
        "        return\n",
        "\n",
        "    results = suggest_recipes(user_input)\n",
        "\n",
        "    print(f\"\\n🍲 Top Recipe Suggestions for: {user_input}\\n\")\n",
        "    for i, row in results.iterrows():\n",
        "        print(f\"🍽️ Dish: {row['TranslatedRecipeName']}\")\n",
        "        print(f\"🧂 Ingredients: {row['TranslatedIngredients']}\\n\")\n",
        "\n",
        "# ▶️ Run the app\n",
        "if __name__ == \"__main__\":\n",
        "    main()\n"
      ],
      "metadata": {
        "colab": {
          "base_uri": "https://localhost:8080/",
          "height": 369
        },
        "id": "L7GbffuUpY41",
        "outputId": "d5be3aa0-b960-43e7-fb44-8f0daf9bb588"
      },
      "execution_count": null,
      "outputs": [
        {
          "output_type": "stream",
          "name": "stdout",
          "text": [
            "🔍 Welcome to the Indian Recipe Recommender!\n"
          ]
        },
        {
          "output_type": "error",
          "ename": "KeyboardInterrupt",
          "evalue": "Interrupted by user",
          "traceback": [
            "\u001b[0;31m---------------------------------------------------------------------------\u001b[0m",
            "\u001b[0;31mKeyboardInterrupt\u001b[0m                         Traceback (most recent call last)",
            "\u001b[0;32m<ipython-input-11-a07ad213680c>\u001b[0m in \u001b[0;36m<cell line: 0>\u001b[0;34m()\u001b[0m\n\u001b[1;32m     40\u001b[0m \u001b[0;31m# ▶️ Run the app\u001b[0m\u001b[0;34m\u001b[0m\u001b[0;34m\u001b[0m\u001b[0m\n\u001b[1;32m     41\u001b[0m \u001b[0;32mif\u001b[0m \u001b[0m__name__\u001b[0m \u001b[0;34m==\u001b[0m \u001b[0;34m\"__main__\"\u001b[0m\u001b[0;34m:\u001b[0m\u001b[0;34m\u001b[0m\u001b[0;34m\u001b[0m\u001b[0m\n\u001b[0;32m---> 42\u001b[0;31m     \u001b[0mmain\u001b[0m\u001b[0;34m(\u001b[0m\u001b[0;34m)\u001b[0m\u001b[0;34m\u001b[0m\u001b[0;34m\u001b[0m\u001b[0m\n\u001b[0m",
            "\u001b[0;32m<ipython-input-11-a07ad213680c>\u001b[0m in \u001b[0;36mmain\u001b[0;34m()\u001b[0m\n\u001b[1;32m     25\u001b[0m \u001b[0;32mdef\u001b[0m \u001b[0mmain\u001b[0m\u001b[0;34m(\u001b[0m\u001b[0;34m)\u001b[0m\u001b[0;34m:\u001b[0m\u001b[0;34m\u001b[0m\u001b[0;34m\u001b[0m\u001b[0m\n\u001b[1;32m     26\u001b[0m     \u001b[0mprint\u001b[0m\u001b[0;34m(\u001b[0m\u001b[0;34m\"🔍 Welcome to the Indian Recipe Recommender!\"\u001b[0m\u001b[0;34m)\u001b[0m\u001b[0;34m\u001b[0m\u001b[0;34m\u001b[0m\u001b[0m\n\u001b[0;32m---> 27\u001b[0;31m     \u001b[0muser_input\u001b[0m \u001b[0;34m=\u001b[0m \u001b[0minput\u001b[0m\u001b[0;34m(\u001b[0m\u001b[0;34m\"Enter ingredients (comma-separated): \"\u001b[0m\u001b[0;34m)\u001b[0m\u001b[0;34m.\u001b[0m\u001b[0mstrip\u001b[0m\u001b[0;34m(\u001b[0m\u001b[0;34m)\u001b[0m\u001b[0;34m\u001b[0m\u001b[0;34m\u001b[0m\u001b[0m\n\u001b[0m\u001b[1;32m     28\u001b[0m \u001b[0;34m\u001b[0m\u001b[0m\n\u001b[1;32m     29\u001b[0m     \u001b[0;32mif\u001b[0m \u001b[0;32mnot\u001b[0m \u001b[0muser_input\u001b[0m\u001b[0;34m:\u001b[0m\u001b[0;34m\u001b[0m\u001b[0;34m\u001b[0m\u001b[0m\n",
            "\u001b[0;32m/usr/local/lib/python3.11/dist-packages/ipykernel/kernelbase.py\u001b[0m in \u001b[0;36mraw_input\u001b[0;34m(self, prompt)\u001b[0m\n\u001b[1;32m   1175\u001b[0m                 \u001b[0;34m\"raw_input was called, but this frontend does not support input requests.\"\u001b[0m\u001b[0;34m\u001b[0m\u001b[0;34m\u001b[0m\u001b[0m\n\u001b[1;32m   1176\u001b[0m             )\n\u001b[0;32m-> 1177\u001b[0;31m         return self._input_request(\n\u001b[0m\u001b[1;32m   1178\u001b[0m             \u001b[0mstr\u001b[0m\u001b[0;34m(\u001b[0m\u001b[0mprompt\u001b[0m\u001b[0;34m)\u001b[0m\u001b[0;34m,\u001b[0m\u001b[0;34m\u001b[0m\u001b[0;34m\u001b[0m\u001b[0m\n\u001b[1;32m   1179\u001b[0m             \u001b[0mself\u001b[0m\u001b[0;34m.\u001b[0m\u001b[0m_parent_ident\u001b[0m\u001b[0;34m[\u001b[0m\u001b[0;34m\"shell\"\u001b[0m\u001b[0;34m]\u001b[0m\u001b[0;34m,\u001b[0m\u001b[0;34m\u001b[0m\u001b[0;34m\u001b[0m\u001b[0m\n",
            "\u001b[0;32m/usr/local/lib/python3.11/dist-packages/ipykernel/kernelbase.py\u001b[0m in \u001b[0;36m_input_request\u001b[0;34m(self, prompt, ident, parent, password)\u001b[0m\n\u001b[1;32m   1217\u001b[0m             \u001b[0;32mexcept\u001b[0m \u001b[0mKeyboardInterrupt\u001b[0m\u001b[0;34m:\u001b[0m\u001b[0;34m\u001b[0m\u001b[0;34m\u001b[0m\u001b[0m\n\u001b[1;32m   1218\u001b[0m                 \u001b[0;31m# re-raise KeyboardInterrupt, to truncate traceback\u001b[0m\u001b[0;34m\u001b[0m\u001b[0;34m\u001b[0m\u001b[0m\n\u001b[0;32m-> 1219\u001b[0;31m                 \u001b[0;32mraise\u001b[0m \u001b[0mKeyboardInterrupt\u001b[0m\u001b[0;34m(\u001b[0m\u001b[0;34m\"Interrupted by user\"\u001b[0m\u001b[0;34m)\u001b[0m \u001b[0;32mfrom\u001b[0m \u001b[0;32mNone\u001b[0m\u001b[0;34m\u001b[0m\u001b[0;34m\u001b[0m\u001b[0m\n\u001b[0m\u001b[1;32m   1220\u001b[0m             \u001b[0;32mexcept\u001b[0m \u001b[0mException\u001b[0m\u001b[0;34m:\u001b[0m\u001b[0;34m\u001b[0m\u001b[0;34m\u001b[0m\u001b[0m\n\u001b[1;32m   1221\u001b[0m                 \u001b[0mself\u001b[0m\u001b[0;34m.\u001b[0m\u001b[0mlog\u001b[0m\u001b[0;34m.\u001b[0m\u001b[0mwarning\u001b[0m\u001b[0;34m(\u001b[0m\u001b[0;34m\"Invalid Message:\"\u001b[0m\u001b[0;34m,\u001b[0m \u001b[0mexc_info\u001b[0m\u001b[0;34m=\u001b[0m\u001b[0;32mTrue\u001b[0m\u001b[0;34m)\u001b[0m\u001b[0;34m\u001b[0m\u001b[0;34m\u001b[0m\u001b[0m\n",
            "\u001b[0;31mKeyboardInterrupt\u001b[0m: Interrupted by user"
          ]
        }
      ]
    }
  ]
}